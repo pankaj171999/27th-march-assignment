{
 "cells": [
  {
   "cell_type": "code",
   "execution_count": null,
   "id": "957b2d06-dc4f-4079-885e-140cddfcb164",
   "metadata": {},
   "outputs": [],
   "source": [
    "Q1(Ans)\n",
    "R-squared is a goodness-of-fit measure for linear regression models. This statistic indicates the percentage of the variance in the dependent variable that the \n",
    "independent variables explain collectively. R-squared measures the strength of the relationship between your model and the dependent variable on a convenient \n",
    "0 – 100% scale.\n",
    "\n",
    "Calculation of R-square\n",
    "\n",
    "R-Square=SSregresssion/SStotal\n",
    "\n",
    "Where:\n",
    "\n",
    "SSregression is the sum of squares due to regression (explained sum of squares)\n",
    "SStotal is the total sum of squares\n",
    "\n",
    "R-square represent the accuracy of the modal"
   ]
  },
  {
   "cell_type": "code",
   "execution_count": null,
   "id": "70b5fd4e-6657-4a4c-8ca1-0196449c2aee",
   "metadata": {},
   "outputs": [],
   "source": [
    "Q2(Ans)\n",
    "Adjusted R-squared is a modified version of R-squared that has been adjusted for the number of predictors in the model. \n",
    "The adjusted R-squared increases when the new term improves the model more than would be expected by chance. \n",
    "It decreases when a predictor improves the model by less than expected.\n",
    " \n",
    "Different between Rsquare and Adjusted R-square\n",
    "The most vital difference between adjusted R-squared and R-squared is simply that adjusted R-squared considers and tests different independent variables \n",
    "against the model and R-squared does not."
   ]
  },
  {
   "cell_type": "code",
   "execution_count": null,
   "id": "347721f6-8b49-4d9a-94b7-d18e6b65d8c9",
   "metadata": {},
   "outputs": [],
   "source": [
    "Q3(Ans)\n",
    "It is better to use Adjusted R-squared when there are multiple variables in the regression mode"
   ]
  },
  {
   "cell_type": "code",
   "execution_count": null,
   "id": "80db6848-6646-4805-87a3-b847a65bf2be",
   "metadata": {},
   "outputs": [],
   "source": [
    "Q4(Ans)\n",
    "Mean absolute error represents the average of the absolute difference between the actual and predicted values in the dataset. \n",
    "It measures the average of the residuals in the dataset.\n",
    "\n",
    "Mean Squared Error represents the average of the squared difference between the original and predicted values in the data set. \n",
    "It measures the variance of the residuals.\n",
    "\n",
    "Root Mean Squared Error is the square root of Mean Squared error. It measures the standard deviation of residuals."
   ]
  },
  {
   "cell_type": "code",
   "execution_count": null,
   "id": "2a577083-ad7e-43d4-b599-93a9b2d4bcaa",
   "metadata": {},
   "outputs": [],
   "source": [
    "Q5(Ans)\n",
    "MEAN ABSOLUTE ERROR\n",
    "* It doesn’t account for the direction of the value. Even if value is negative, positive value is used for calculation\n",
    "*MAE is less biased for higher values. It may not adequately reflect the performance when dealing with large error values.\n",
    "*MAE doesn’t necessarily penalize large errors\n",
    "\n",
    "MEAN SQUARED ERROR\n",
    "*It does account for positive or negative value.\n",
    "*MSE is highly biased for higher values.\n",
    "*MSE penalize large errors.\n",
    "\n",
    "ROOT SQUARED ERROR\n",
    "*It does account for positive or negative value.\n",
    "*RMSE is better in terms of reflecting performance when dealing with large error values.\n",
    "*RMSE penalize large errors.\n"
   ]
  },
  {
   "cell_type": "code",
   "execution_count": null,
   "id": "456a5143-791d-41ce-8a81-5c7b6235ef71",
   "metadata": {},
   "outputs": [],
   "source": [
    "Q6(Ans)\n",
    "LASSO regression, also known as L1 regularization, is a popular technique used in statistical modeling and machine learning to estimate \n",
    "the relationships between variables and make predictions. LASSO stands for Least Absolute Shrinkage and Selection Operator.\n",
    "\n",
    "Different between lasso regression and ridge regression\n",
    "while lasso regression takes the magnitude of the coefficients, ridge regression takes the square. \n",
    "\n",
    "Lasso regression is a regularization technique. It is used over regression methods for a more accurate prediction."
   ]
  },
  {
   "cell_type": "code",
   "execution_count": null,
   "id": "0e97f9ab-2311-41d9-b1e1-30500fd714ec",
   "metadata": {},
   "outputs": [],
   "source": [
    "Q7(Ans)\n",
    "In short, Regularization in machine learning is the process of regularizing the parameters that constrain, regularizes, or shrinks the coefficient estimates towards zero.\n",
    "In other words, this technique discourages learning a more complex or flexible model, avoiding the risk of Overfitting."
   ]
  },
  {
   "cell_type": "code",
   "execution_count": null,
   "id": "934ca416-f16f-47d6-a91b-d3f133b8053b",
   "metadata": {},
   "outputs": [],
   "source": [
    "Q8(Ans)This article discusses the problems that may occur while training a Linear model, and some methods to deal with them.\n",
    "Non-Linearity of the response-predictor relationships.\n",
    "Correlation of error terms.\n",
    "A non-constant variance of the error term\n",
    "Collinearity.\n",
    "Outliers and High Leverage Points."
   ]
  },
  {
   "cell_type": "markdown",
   "id": "e3da0c92-7fa6-4327-88b7-2647a612cde1",
   "metadata": {},
   "source": [
    "Q9(Ans)I have choose Model B has an MAE of 8. Because it is robust to outlier and it is in the same unit.In MAE we get most accurate cost error value"
   ]
  },
  {
   "cell_type": "markdown",
   "id": "84600f04-f751-484a-9f90-35bd88b63d84",
   "metadata": {},
   "source": [
    "10(Ans) I will choose Model A uses Ridge regularization with a regularization parameter of 0.1, because is square the slope value and then there regularization parameter value is low then  Model B "
   ]
  }
 ],
 "metadata": {
  "kernelspec": {
   "display_name": "Python 3 (ipykernel)",
   "language": "python",
   "name": "python3"
  },
  "language_info": {
   "codemirror_mode": {
    "name": "ipython",
    "version": 3
   },
   "file_extension": ".py",
   "mimetype": "text/x-python",
   "name": "python",
   "nbconvert_exporter": "python",
   "pygments_lexer": "ipython3",
   "version": "3.10.8"
  }
 },
 "nbformat": 4,
 "nbformat_minor": 5
}
